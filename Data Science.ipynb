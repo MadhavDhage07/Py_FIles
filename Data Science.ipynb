{
 "cells": [
  {
   "cell_type": "markdown",
   "id": "efd91b55",
   "metadata": {},
   "source": [
    "# Data Science"
   ]
  },
  {
   "cell_type": "raw",
   "id": "9591036c",
   "metadata": {},
   "source": [
    "It is a process of extracting knowledge and insights from data by using scientific methods"
   ]
  },
  {
   "cell_type": "markdown",
   "id": "fe8ff518",
   "metadata": {},
   "source": [
    "# Scientific Methods"
   ]
  },
  {
   "cell_type": "raw",
   "id": "62ab5ed2",
   "metadata": {},
   "source": [
    "1. Machine Learning (CSV, Excel, DataBase)\n",
    "2. Deep Learning (Image, Videos)\n",
    "3. Natural Language processing (Text Data)\n",
    "4. Data Visualization (Seaborn, Matplotlib, Pandas)"
   ]
  },
  {
   "cell_type": "raw",
   "id": "847e271a",
   "metadata": {},
   "source": [
    "Data:\n",
    "    \n",
    "    1.Structured Format(CSV,Excel)\n",
    "    2.Unstructured Format (Image, Videos, PDF)\n",
    "    3.Semistructured Format (JSON,html)"
   ]
  },
  {
   "cell_type": "markdown",
   "id": "9df1769c",
   "metadata": {},
   "source": [
    "# Machine Learning"
   ]
  },
  {
   "cell_type": "raw",
   "id": "69cdb2b6",
   "metadata": {},
   "source": [
    "Ability of Machine to learn without explicitly programmed"
   ]
  },
  {
   "cell_type": "markdown",
   "id": "25d399be",
   "metadata": {},
   "source": [
    "# Real World application of Machine Learning"
   ]
  },
  {
   "cell_type": "raw",
   "id": "82e67f8a",
   "metadata": {},
   "source": [
    "1. Medical Field (Cancer, Diabetes, Kidney)\n",
    "2. House Price Prediction\n",
    "3. Email Filtering (Spam or not Spam)\n",
    "4. Sentiment Analysis (Positive or Negative, good or bad)\n",
    "5. Recommendation system (amazon, Flipkart, Netflix)\n",
    "6. Loan Prediction (Approved or Declined)\n",
    "7. Voice Assistant (Alexa, Google, Siri)  >> Voice >> Text >> Test ML Model >> Voice\n",
    "8. ChatBot\n",
    "9. Self driving Car"
   ]
  },
  {
   "cell_type": "markdown",
   "id": "2ac1efb5",
   "metadata": {},
   "source": [
    "# Types of Machine Learning"
   ]
  },
  {
   "cell_type": "raw",
   "id": "4bbbfcea",
   "metadata": {},
   "source": [
    "1. Supervised Machine Learning \n",
    "2. Unsupervised Machine Learning\n",
    "3. Reinforcement Machine Learning"
   ]
  },
  {
   "cell_type": "markdown",
   "id": "d6f6999d",
   "metadata": {},
   "source": [
    "# Variables In Machine Learning"
   ]
  },
  {
   "cell_type": "code",
   "execution_count": null,
   "id": "53349382",
   "metadata": {},
   "outputs": [],
   "source": [
    "1. Input Variables / Independent Variables / Predictors (X)\n",
    "2. Output Variables / Dependent Variables / Target Variables (Y)  "
   ]
  }
 ],
 "metadata": {
  "kernelspec": {
   "display_name": "Python 3",
   "language": "python",
   "name": "python3"
  },
  "language_info": {
   "codemirror_mode": {
    "name": "ipython",
    "version": 3
   },
   "file_extension": ".py",
   "mimetype": "text/x-python",
   "name": "python",
   "nbconvert_exporter": "python",
   "pygments_lexer": "ipython3",
   "version": "3.8.8"
  }
 },
 "nbformat": 4,
 "nbformat_minor": 5
}
